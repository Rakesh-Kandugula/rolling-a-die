{
 "cells": [
  {
   "cell_type": "code",
   "execution_count": 2,
   "id": "4300e177",
   "metadata": {},
   "outputs": [
    {
     "name": "stdout",
     "output_type": "stream",
     "text": [
      "Choose any of the options from below\n",
      "1.Roll the dice\n",
      "2.Exit\n",
      "\n",
      "Enter the number you have choosen: \n",
      "1\n",
      "5\n",
      "Choose any of the options from below\n",
      "1.Roll the dice\n",
      "2.Exit\n",
      "\n",
      "Enter the number you have choosen: \n",
      "2\n"
     ]
    }
   ],
   "source": [
    "import random\n",
    "while True:\n",
    "    print(\"Choose any of the options from below\\n1.Roll the dice\\n2.Exit\\n\")\n",
    "    userInput=int(input(\"Enter the number you have choosen: \\n\"))\n",
    "    if userInput==1:\n",
    "        number=random.randint(1,6)\n",
    "        print(number)\n",
    "    else:\n",
    "        break"
   ]
  },
  {
   "cell_type": "code",
   "execution_count": null,
   "id": "5719b4de",
   "metadata": {},
   "outputs": [],
   "source": []
  }
 ],
 "metadata": {
  "kernelspec": {
   "display_name": "Python 3 (ipykernel)",
   "language": "python",
   "name": "python3"
  },
  "language_info": {
   "codemirror_mode": {
    "name": "ipython",
    "version": 3
   },
   "file_extension": ".py",
   "mimetype": "text/x-python",
   "name": "python",
   "nbconvert_exporter": "python",
   "pygments_lexer": "ipython3",
   "version": "3.9.7"
  }
 },
 "nbformat": 4,
 "nbformat_minor": 5
}
